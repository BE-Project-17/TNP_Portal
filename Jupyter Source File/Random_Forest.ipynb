{
  "nbformat": 4,
  "nbformat_minor": 0,
  "metadata": {
    "colab": {
      "provenance": []
    },
    "kernelspec": {
      "name": "python3",
      "display_name": "Python 3"
    },
    "language_info": {
      "name": "python"
    }
  },
  "cells": [
    {
      "cell_type": "code",
      "execution_count": 3,
      "metadata": {
        "id": "qUtey9PEsedO"
      },
      "outputs": [],
      "source": [
        "# Step 1: Data Preparation\n",
        "import pandas as pd\n",
        "from sklearn.preprocessing import MinMaxScaler\n",
        "import seaborn as sns\n",
        "import matplotlib.pyplot as plt\n",
        "from sklearn.feature_selection import SelectFromModel"
      ]
    },
    {
      "cell_type": "code",
      "source": [
        "# Load the dataset\n",
        "data = pd.read_csv('data.csv')\n",
        "\n",
        "data = data.fillna(0)\n",
        "\n",
        "data = data.drop(['id','email'],axis=1)\n",
        "\n",
        "features_to_split = ['branch']\n",
        "for feature in features_to_split:\n",
        "    dummy = pd.get_dummies(data[feature])\n",
        "    data = pd.concat([data, dummy], axis=1)\n",
        "    data.drop(feature, axis=1, inplace=True)\n"
      ],
      "metadata": {
        "id": "sAExGmlSskB0"
      },
      "execution_count": 4,
      "outputs": []
    },
    {
      "cell_type": "code",
      "source": [
        "# Normalize the numerical features\n",
        "scaler = MinMaxScaler()\n",
        "num_cols = ['ssc', 'hsc', 'quantitative_ability', 'logical_reasoning', 'english_proficiency', 'automata_score', 'computer_science_score', 'internships', 'backlogs', 'projects', 'cgpa']\n",
        "data[num_cols] = scaler.fit_transform(data[num_cols])\n"
      ],
      "metadata": {
        "id": "AzHucFwWsnE_"
      },
      "execution_count": 5,
      "outputs": []
    },
    {
      "cell_type": "code",
      "source": [
        "# Step 2: Feature Selection\n",
        "from sklearn.model_selection import train_test_split\n",
        "from sklearn.ensemble import RandomForestClassifier\n",
        "from sklearn.metrics import accuracy_score"
      ],
      "metadata": {
        "id": "qjVaC3Q-swVb"
      },
      "execution_count": 6,
      "outputs": []
    },
    {
      "cell_type": "code",
      "source": [
        "X = data.drop('placed_sector', axis=1)\n",
        "y = data['placed_sector']"
      ],
      "metadata": {
        "id": "pXEEpqCDszS_"
      },
      "execution_count": 7,
      "outputs": []
    },
    {
      "cell_type": "code",
      "source": [
        "# Use Random Forest for feature selection\n",
        "sel = SelectFromModel(RandomForestClassifier(n_estimators=100, random_state=42), max_features=5)\n",
        "sel.fit(X, y)"
      ],
      "metadata": {
        "colab": {
          "base_uri": "https://localhost:8080/",
          "height": 118
        },
        "id": "2xCmHnL3s1ob",
        "outputId": "79a6e87f-e802-4543-fe6b-41c2853a24b6"
      },
      "execution_count": 8,
      "outputs": [
        {
          "output_type": "execute_result",
          "data": {
            "text/plain": [
              "SelectFromModel(estimator=RandomForestClassifier(random_state=42),\n",
              "                max_features=5)"
            ],
            "text/html": [
              "<style>#sk-container-id-1 {color: black;background-color: white;}#sk-container-id-1 pre{padding: 0;}#sk-container-id-1 div.sk-toggleable {background-color: white;}#sk-container-id-1 label.sk-toggleable__label {cursor: pointer;display: block;width: 100%;margin-bottom: 0;padding: 0.3em;box-sizing: border-box;text-align: center;}#sk-container-id-1 label.sk-toggleable__label-arrow:before {content: \"▸\";float: left;margin-right: 0.25em;color: #696969;}#sk-container-id-1 label.sk-toggleable__label-arrow:hover:before {color: black;}#sk-container-id-1 div.sk-estimator:hover label.sk-toggleable__label-arrow:before {color: black;}#sk-container-id-1 div.sk-toggleable__content {max-height: 0;max-width: 0;overflow: hidden;text-align: left;background-color: #f0f8ff;}#sk-container-id-1 div.sk-toggleable__content pre {margin: 0.2em;color: black;border-radius: 0.25em;background-color: #f0f8ff;}#sk-container-id-1 input.sk-toggleable__control:checked~div.sk-toggleable__content {max-height: 200px;max-width: 100%;overflow: auto;}#sk-container-id-1 input.sk-toggleable__control:checked~label.sk-toggleable__label-arrow:before {content: \"▾\";}#sk-container-id-1 div.sk-estimator input.sk-toggleable__control:checked~label.sk-toggleable__label {background-color: #d4ebff;}#sk-container-id-1 div.sk-label input.sk-toggleable__control:checked~label.sk-toggleable__label {background-color: #d4ebff;}#sk-container-id-1 input.sk-hidden--visually {border: 0;clip: rect(1px 1px 1px 1px);clip: rect(1px, 1px, 1px, 1px);height: 1px;margin: -1px;overflow: hidden;padding: 0;position: absolute;width: 1px;}#sk-container-id-1 div.sk-estimator {font-family: monospace;background-color: #f0f8ff;border: 1px dotted black;border-radius: 0.25em;box-sizing: border-box;margin-bottom: 0.5em;}#sk-container-id-1 div.sk-estimator:hover {background-color: #d4ebff;}#sk-container-id-1 div.sk-parallel-item::after {content: \"\";width: 100%;border-bottom: 1px solid gray;flex-grow: 1;}#sk-container-id-1 div.sk-label:hover label.sk-toggleable__label {background-color: #d4ebff;}#sk-container-id-1 div.sk-serial::before {content: \"\";position: absolute;border-left: 1px solid gray;box-sizing: border-box;top: 0;bottom: 0;left: 50%;z-index: 0;}#sk-container-id-1 div.sk-serial {display: flex;flex-direction: column;align-items: center;background-color: white;padding-right: 0.2em;padding-left: 0.2em;position: relative;}#sk-container-id-1 div.sk-item {position: relative;z-index: 1;}#sk-container-id-1 div.sk-parallel {display: flex;align-items: stretch;justify-content: center;background-color: white;position: relative;}#sk-container-id-1 div.sk-item::before, #sk-container-id-1 div.sk-parallel-item::before {content: \"\";position: absolute;border-left: 1px solid gray;box-sizing: border-box;top: 0;bottom: 0;left: 50%;z-index: -1;}#sk-container-id-1 div.sk-parallel-item {display: flex;flex-direction: column;z-index: 1;position: relative;background-color: white;}#sk-container-id-1 div.sk-parallel-item:first-child::after {align-self: flex-end;width: 50%;}#sk-container-id-1 div.sk-parallel-item:last-child::after {align-self: flex-start;width: 50%;}#sk-container-id-1 div.sk-parallel-item:only-child::after {width: 0;}#sk-container-id-1 div.sk-dashed-wrapped {border: 1px dashed gray;margin: 0 0.4em 0.5em 0.4em;box-sizing: border-box;padding-bottom: 0.4em;background-color: white;}#sk-container-id-1 div.sk-label label {font-family: monospace;font-weight: bold;display: inline-block;line-height: 1.2em;}#sk-container-id-1 div.sk-label-container {text-align: center;}#sk-container-id-1 div.sk-container {/* jupyter's `normalize.less` sets `[hidden] { display: none; }` but bootstrap.min.css set `[hidden] { display: none !important; }` so we also need the `!important` here to be able to override the default hidden behavior on the sphinx rendered scikit-learn.org. See: https://github.com/scikit-learn/scikit-learn/issues/21755 */display: inline-block !important;position: relative;}#sk-container-id-1 div.sk-text-repr-fallback {display: none;}</style><div id=\"sk-container-id-1\" class=\"sk-top-container\"><div class=\"sk-text-repr-fallback\"><pre>SelectFromModel(estimator=RandomForestClassifier(random_state=42),\n",
              "                max_features=5)</pre><b>In a Jupyter environment, please rerun this cell to show the HTML representation or trust the notebook. <br />On GitHub, the HTML representation is unable to render, please try loading this page with nbviewer.org.</b></div><div class=\"sk-container\" hidden><div class=\"sk-item sk-dashed-wrapped\"><div class=\"sk-label-container\"><div class=\"sk-label sk-toggleable\"><input class=\"sk-toggleable__control sk-hidden--visually\" id=\"sk-estimator-id-1\" type=\"checkbox\" ><label for=\"sk-estimator-id-1\" class=\"sk-toggleable__label sk-toggleable__label-arrow\">SelectFromModel</label><div class=\"sk-toggleable__content\"><pre>SelectFromModel(estimator=RandomForestClassifier(random_state=42),\n",
              "                max_features=5)</pre></div></div></div><div class=\"sk-parallel\"><div class=\"sk-parallel-item\"><div class=\"sk-item\"><div class=\"sk-label-container\"><div class=\"sk-label sk-toggleable\"><input class=\"sk-toggleable__control sk-hidden--visually\" id=\"sk-estimator-id-2\" type=\"checkbox\" ><label for=\"sk-estimator-id-2\" class=\"sk-toggleable__label sk-toggleable__label-arrow\">estimator: RandomForestClassifier</label><div class=\"sk-toggleable__content\"><pre>RandomForestClassifier(random_state=42)</pre></div></div></div><div class=\"sk-serial\"><div class=\"sk-item\"><div class=\"sk-estimator sk-toggleable\"><input class=\"sk-toggleable__control sk-hidden--visually\" id=\"sk-estimator-id-3\" type=\"checkbox\" ><label for=\"sk-estimator-id-3\" class=\"sk-toggleable__label sk-toggleable__label-arrow\">RandomForestClassifier</label><div class=\"sk-toggleable__content\"><pre>RandomForestClassifier(random_state=42)</pre></div></div></div></div></div></div></div></div></div></div>"
            ]
          },
          "metadata": {},
          "execution_count": 8
        }
      ]
    },
    {
      "cell_type": "code",
      "source": [
        "# Print the selected features\n",
        "selected_feat= X.columns[(sel.get_support())]\n",
        "print('Selected Features:', selected_feat)"
      ],
      "metadata": {
        "colab": {
          "base_uri": "https://localhost:8080/"
        },
        "id": "BvOY6Juhs4Az",
        "outputId": "7ccb28b5-cbc0-43ed-98ec-3846880fdbd1"
      },
      "execution_count": 9,
      "outputs": [
        {
          "output_type": "stream",
          "name": "stdout",
          "text": [
            "Selected Features: Index(['hsc', 'quantitative_ability', 'logical_reasoning',\n",
            "       'english_proficiency', 'computer_science_score'],\n",
            "      dtype='object')\n"
          ]
        }
      ]
    },
    {
      "cell_type": "code",
      "source": [
        "# Split the data into training and testing sets\n",
        "X_train, X_test, y_train, y_test = train_test_split(X[selected_feat], y, test_size=0.2, random_state=42)"
      ],
      "metadata": {
        "id": "TccGVkQls6GS"
      },
      "execution_count": 10,
      "outputs": []
    },
    {
      "cell_type": "code",
      "source": [
        "# Step 3: Model Training\n",
        "from sklearn.ensemble import RandomForestClassifier\n",
        "clf = RandomForestClassifier(n_estimators=100, random_state=42)\n",
        "clf.fit(X_train, y_train)"
      ],
      "metadata": {
        "colab": {
          "base_uri": "https://localhost:8080/",
          "height": 75
        },
        "id": "OPlMgFgHs81h",
        "outputId": "7a464e47-5acc-4123-facd-d949ae46d783"
      },
      "execution_count": 11,
      "outputs": [
        {
          "output_type": "execute_result",
          "data": {
            "text/plain": [
              "RandomForestClassifier(random_state=42)"
            ],
            "text/html": [
              "<style>#sk-container-id-2 {color: black;background-color: white;}#sk-container-id-2 pre{padding: 0;}#sk-container-id-2 div.sk-toggleable {background-color: white;}#sk-container-id-2 label.sk-toggleable__label {cursor: pointer;display: block;width: 100%;margin-bottom: 0;padding: 0.3em;box-sizing: border-box;text-align: center;}#sk-container-id-2 label.sk-toggleable__label-arrow:before {content: \"▸\";float: left;margin-right: 0.25em;color: #696969;}#sk-container-id-2 label.sk-toggleable__label-arrow:hover:before {color: black;}#sk-container-id-2 div.sk-estimator:hover label.sk-toggleable__label-arrow:before {color: black;}#sk-container-id-2 div.sk-toggleable__content {max-height: 0;max-width: 0;overflow: hidden;text-align: left;background-color: #f0f8ff;}#sk-container-id-2 div.sk-toggleable__content pre {margin: 0.2em;color: black;border-radius: 0.25em;background-color: #f0f8ff;}#sk-container-id-2 input.sk-toggleable__control:checked~div.sk-toggleable__content {max-height: 200px;max-width: 100%;overflow: auto;}#sk-container-id-2 input.sk-toggleable__control:checked~label.sk-toggleable__label-arrow:before {content: \"▾\";}#sk-container-id-2 div.sk-estimator input.sk-toggleable__control:checked~label.sk-toggleable__label {background-color: #d4ebff;}#sk-container-id-2 div.sk-label input.sk-toggleable__control:checked~label.sk-toggleable__label {background-color: #d4ebff;}#sk-container-id-2 input.sk-hidden--visually {border: 0;clip: rect(1px 1px 1px 1px);clip: rect(1px, 1px, 1px, 1px);height: 1px;margin: -1px;overflow: hidden;padding: 0;position: absolute;width: 1px;}#sk-container-id-2 div.sk-estimator {font-family: monospace;background-color: #f0f8ff;border: 1px dotted black;border-radius: 0.25em;box-sizing: border-box;margin-bottom: 0.5em;}#sk-container-id-2 div.sk-estimator:hover {background-color: #d4ebff;}#sk-container-id-2 div.sk-parallel-item::after {content: \"\";width: 100%;border-bottom: 1px solid gray;flex-grow: 1;}#sk-container-id-2 div.sk-label:hover label.sk-toggleable__label {background-color: #d4ebff;}#sk-container-id-2 div.sk-serial::before {content: \"\";position: absolute;border-left: 1px solid gray;box-sizing: border-box;top: 0;bottom: 0;left: 50%;z-index: 0;}#sk-container-id-2 div.sk-serial {display: flex;flex-direction: column;align-items: center;background-color: white;padding-right: 0.2em;padding-left: 0.2em;position: relative;}#sk-container-id-2 div.sk-item {position: relative;z-index: 1;}#sk-container-id-2 div.sk-parallel {display: flex;align-items: stretch;justify-content: center;background-color: white;position: relative;}#sk-container-id-2 div.sk-item::before, #sk-container-id-2 div.sk-parallel-item::before {content: \"\";position: absolute;border-left: 1px solid gray;box-sizing: border-box;top: 0;bottom: 0;left: 50%;z-index: -1;}#sk-container-id-2 div.sk-parallel-item {display: flex;flex-direction: column;z-index: 1;position: relative;background-color: white;}#sk-container-id-2 div.sk-parallel-item:first-child::after {align-self: flex-end;width: 50%;}#sk-container-id-2 div.sk-parallel-item:last-child::after {align-self: flex-start;width: 50%;}#sk-container-id-2 div.sk-parallel-item:only-child::after {width: 0;}#sk-container-id-2 div.sk-dashed-wrapped {border: 1px dashed gray;margin: 0 0.4em 0.5em 0.4em;box-sizing: border-box;padding-bottom: 0.4em;background-color: white;}#sk-container-id-2 div.sk-label label {font-family: monospace;font-weight: bold;display: inline-block;line-height: 1.2em;}#sk-container-id-2 div.sk-label-container {text-align: center;}#sk-container-id-2 div.sk-container {/* jupyter's `normalize.less` sets `[hidden] { display: none; }` but bootstrap.min.css set `[hidden] { display: none !important; }` so we also need the `!important` here to be able to override the default hidden behavior on the sphinx rendered scikit-learn.org. See: https://github.com/scikit-learn/scikit-learn/issues/21755 */display: inline-block !important;position: relative;}#sk-container-id-2 div.sk-text-repr-fallback {display: none;}</style><div id=\"sk-container-id-2\" class=\"sk-top-container\"><div class=\"sk-text-repr-fallback\"><pre>RandomForestClassifier(random_state=42)</pre><b>In a Jupyter environment, please rerun this cell to show the HTML representation or trust the notebook. <br />On GitHub, the HTML representation is unable to render, please try loading this page with nbviewer.org.</b></div><div class=\"sk-container\" hidden><div class=\"sk-item\"><div class=\"sk-estimator sk-toggleable\"><input class=\"sk-toggleable__control sk-hidden--visually\" id=\"sk-estimator-id-4\" type=\"checkbox\" checked><label for=\"sk-estimator-id-4\" class=\"sk-toggleable__label sk-toggleable__label-arrow\">RandomForestClassifier</label><div class=\"sk-toggleable__content\"><pre>RandomForestClassifier(random_state=42)</pre></div></div></div></div></div>"
            ]
          },
          "metadata": {},
          "execution_count": 11
        }
      ]
    },
    {
      "cell_type": "code",
      "source": [
        "# Step 4: Model Evaluation\n",
        "# Evaluate the performance of the model using metrics like accuracy, precision, recall, F1-score, and confusion matrix.\n",
        "y_pred = clf.predict(X_test)\n",
        "acc_score = accuracy_score(y_test, y_pred)\n",
        "print(f\"Accuracy Score: {acc_score}\")"
      ],
      "metadata": {
        "colab": {
          "base_uri": "https://localhost:8080/"
        },
        "id": "sASoKGnps_Uf",
        "outputId": "52bbf85c-d727-4fec-fe0d-d33f6af2a8b0"
      },
      "execution_count": 12,
      "outputs": [
        {
          "output_type": "stream",
          "name": "stdout",
          "text": [
            "Accuracy Score: 0.275\n"
          ]
        }
      ]
    },
    {
      "cell_type": "code",
      "source": [
        "y_pred_proba = clf.predict_proba(X_test)\n",
        "print(y_pred_proba)"
      ],
      "metadata": {
        "colab": {
          "base_uri": "https://localhost:8080/"
        },
        "id": "aNFt7_YttBeS",
        "outputId": "96801af2-3675-4276-d09a-8417870d26c9"
      },
      "execution_count": 16,
      "outputs": [
        {
          "output_type": "stream",
          "name": "stdout",
          "text": [
            "[[0.22 0.35 0.16 0.27]\n",
            " [0.08 0.27 0.4  0.25]\n",
            " [0.13 0.11 0.25 0.51]\n",
            " [0.26 0.4  0.16 0.18]\n",
            " [0.06 0.23 0.52 0.19]\n",
            " [0.25 0.18 0.27 0.3 ]\n",
            " [0.3  0.22 0.23 0.25]\n",
            " [0.41 0.19 0.09 0.31]\n",
            " [0.27 0.28 0.34 0.11]\n",
            " [0.12 0.43 0.17 0.28]\n",
            " [0.21 0.33 0.32 0.14]\n",
            " [0.43 0.16 0.16 0.25]\n",
            " [0.19 0.41 0.17 0.23]\n",
            " [0.1  0.26 0.12 0.52]\n",
            " [0.42 0.15 0.25 0.18]\n",
            " [0.38 0.2  0.13 0.29]\n",
            " [0.27 0.23 0.38 0.12]\n",
            " [0.07 0.23 0.22 0.48]\n",
            " [0.13 0.35 0.26 0.26]\n",
            " [0.33 0.31 0.11 0.25]\n",
            " [0.38 0.04 0.32 0.26]\n",
            " [0.48 0.2  0.19 0.13]\n",
            " [0.21 0.11 0.38 0.3 ]\n",
            " [0.51 0.11 0.12 0.26]\n",
            " [0.05 0.41 0.23 0.31]\n",
            " [0.16 0.22 0.12 0.5 ]\n",
            " [0.22 0.29 0.17 0.32]\n",
            " [0.27 0.34 0.28 0.11]\n",
            " [0.32 0.02 0.34 0.32]\n",
            " [0.17 0.3  0.34 0.19]\n",
            " [0.13 0.33 0.16 0.38]\n",
            " [0.14 0.21 0.15 0.5 ]\n",
            " [0.22 0.32 0.26 0.2 ]\n",
            " [0.31 0.11 0.36 0.22]\n",
            " [0.12 0.29 0.4  0.19]\n",
            " [0.18 0.29 0.09 0.44]\n",
            " [0.4  0.27 0.07 0.26]\n",
            " [0.29 0.19 0.39 0.13]\n",
            " [0.55 0.16 0.1  0.19]\n",
            " [0.16 0.28 0.21 0.35]\n",
            " [0.17 0.25 0.33 0.25]\n",
            " [0.16 0.28 0.17 0.39]\n",
            " [0.18 0.4  0.29 0.13]\n",
            " [0.19 0.23 0.17 0.41]\n",
            " [0.22 0.49 0.13 0.16]\n",
            " [0.23 0.18 0.22 0.37]\n",
            " [0.25 0.27 0.32 0.16]\n",
            " [0.19 0.43 0.14 0.24]\n",
            " [0.13 0.2  0.28 0.39]\n",
            " [0.18 0.24 0.3  0.28]\n",
            " [0.5  0.28 0.16 0.06]\n",
            " [0.26 0.25 0.3  0.19]\n",
            " [0.33 0.18 0.26 0.23]\n",
            " [0.27 0.39 0.13 0.21]\n",
            " [0.19 0.1  0.3  0.41]\n",
            " [0.13 0.36 0.27 0.24]\n",
            " [0.59 0.1  0.16 0.15]\n",
            " [0.34 0.3  0.12 0.24]\n",
            " [0.33 0.18 0.17 0.32]\n",
            " [0.31 0.32 0.2  0.17]\n",
            " [0.2  0.15 0.22 0.43]\n",
            " [0.17 0.33 0.26 0.24]\n",
            " [0.13 0.34 0.34 0.19]\n",
            " [0.23 0.23 0.4  0.14]\n",
            " [0.18 0.31 0.33 0.18]\n",
            " [0.17 0.45 0.2  0.18]\n",
            " [0.16 0.26 0.14 0.44]\n",
            " [0.14 0.4  0.1  0.36]\n",
            " [0.42 0.26 0.24 0.08]\n",
            " [0.15 0.5  0.18 0.17]\n",
            " [0.21 0.17 0.27 0.35]\n",
            " [0.12 0.33 0.17 0.38]\n",
            " [0.48 0.15 0.2  0.17]\n",
            " [0.22 0.19 0.4  0.19]\n",
            " [0.46 0.33 0.1  0.11]\n",
            " [0.19 0.37 0.27 0.17]\n",
            " [0.26 0.1  0.31 0.33]\n",
            " [0.34 0.24 0.06 0.36]\n",
            " [0.46 0.12 0.16 0.26]\n",
            " [0.08 0.21 0.5  0.21]\n",
            " [0.06 0.54 0.32 0.08]\n",
            " [0.45 0.23 0.2  0.12]\n",
            " [0.1  0.31 0.09 0.5 ]\n",
            " [0.07 0.34 0.11 0.48]\n",
            " [0.58 0.1  0.21 0.11]\n",
            " [0.37 0.18 0.09 0.36]\n",
            " [0.13 0.41 0.27 0.19]\n",
            " [0.2  0.31 0.24 0.25]\n",
            " [0.19 0.29 0.24 0.28]\n",
            " [0.17 0.25 0.28 0.3 ]\n",
            " [0.06 0.71 0.08 0.15]\n",
            " [0.06 0.39 0.18 0.37]\n",
            " [0.37 0.19 0.33 0.11]\n",
            " [0.15 0.45 0.17 0.23]\n",
            " [0.21 0.21 0.15 0.43]\n",
            " [0.29 0.2  0.15 0.36]\n",
            " [0.38 0.14 0.28 0.2 ]\n",
            " [0.45 0.21 0.25 0.09]\n",
            " [0.14 0.31 0.11 0.44]\n",
            " [0.35 0.24 0.16 0.25]\n",
            " [0.19 0.43 0.27 0.11]\n",
            " [0.06 0.31 0.11 0.52]\n",
            " [0.38 0.14 0.12 0.36]\n",
            " [0.34 0.2  0.12 0.34]\n",
            " [0.14 0.47 0.25 0.14]\n",
            " [0.31 0.24 0.05 0.4 ]\n",
            " [0.06 0.41 0.42 0.11]\n",
            " [0.22 0.25 0.39 0.14]\n",
            " [0.24 0.15 0.24 0.37]\n",
            " [0.3  0.13 0.42 0.15]\n",
            " [0.14 0.5  0.09 0.27]\n",
            " [0.32 0.14 0.25 0.29]\n",
            " [0.18 0.44 0.17 0.21]\n",
            " [0.2  0.41 0.22 0.17]\n",
            " [0.21 0.41 0.25 0.13]\n",
            " [0.39 0.14 0.12 0.35]\n",
            " [0.22 0.41 0.25 0.12]\n",
            " [0.23 0.36 0.15 0.26]\n",
            " [0.34 0.22 0.29 0.15]\n",
            " [0.14 0.22 0.22 0.42]\n",
            " [0.33 0.2  0.28 0.19]\n",
            " [0.38 0.02 0.25 0.35]\n",
            " [0.18 0.06 0.25 0.51]\n",
            " [0.25 0.31 0.1  0.34]\n",
            " [0.08 0.47 0.25 0.2 ]\n",
            " [0.1  0.41 0.25 0.24]\n",
            " [0.34 0.22 0.24 0.2 ]\n",
            " [0.44 0.29 0.11 0.16]\n",
            " [0.42 0.23 0.1  0.25]\n",
            " [0.41 0.09 0.3  0.2 ]\n",
            " [0.09 0.4  0.22 0.29]\n",
            " [0.29 0.15 0.16 0.4 ]\n",
            " [0.37 0.17 0.13 0.33]\n",
            " [0.2  0.28 0.21 0.31]\n",
            " [0.18 0.18 0.56 0.08]\n",
            " [0.37 0.34 0.24 0.05]\n",
            " [0.1  0.52 0.23 0.15]\n",
            " [0.34 0.34 0.22 0.1 ]\n",
            " [0.14 0.53 0.18 0.15]\n",
            " [0.43 0.2  0.27 0.1 ]\n",
            " [0.16 0.37 0.36 0.11]\n",
            " [0.13 0.31 0.26 0.3 ]\n",
            " [0.16 0.34 0.37 0.13]\n",
            " [0.06 0.24 0.29 0.41]\n",
            " [0.25 0.26 0.34 0.15]\n",
            " [0.32 0.24 0.28 0.16]\n",
            " [0.36 0.14 0.36 0.14]\n",
            " [0.23 0.19 0.32 0.26]\n",
            " [0.12 0.41 0.24 0.23]\n",
            " [0.18 0.42 0.18 0.22]\n",
            " [0.27 0.4  0.19 0.14]\n",
            " [0.41 0.13 0.26 0.2 ]\n",
            " [0.25 0.33 0.13 0.29]\n",
            " [0.16 0.36 0.23 0.25]\n",
            " [0.15 0.25 0.2  0.4 ]\n",
            " [0.57 0.13 0.19 0.11]\n",
            " [0.23 0.41 0.12 0.24]\n",
            " [0.31 0.26 0.13 0.3 ]\n",
            " [0.41 0.25 0.17 0.17]\n",
            " [0.25 0.37 0.19 0.19]\n",
            " [0.22 0.37 0.07 0.34]\n",
            " [0.12 0.32 0.3  0.26]\n",
            " [0.44 0.21 0.09 0.26]\n",
            " [0.57 0.09 0.25 0.09]\n",
            " [0.29 0.34 0.15 0.22]\n",
            " [0.18 0.23 0.3  0.29]\n",
            " [0.13 0.23 0.16 0.48]\n",
            " [0.38 0.3  0.24 0.08]\n",
            " [0.33 0.28 0.16 0.23]\n",
            " [0.31 0.13 0.3  0.26]\n",
            " [0.22 0.27 0.34 0.17]\n",
            " [0.07 0.22 0.33 0.38]\n",
            " [0.29 0.2  0.39 0.12]\n",
            " [0.33 0.33 0.19 0.15]\n",
            " [0.16 0.17 0.37 0.3 ]\n",
            " [0.4  0.32 0.16 0.12]\n",
            " [0.21 0.5  0.13 0.16]\n",
            " [0.06 0.47 0.33 0.14]\n",
            " [0.17 0.28 0.22 0.33]\n",
            " [0.11 0.28 0.51 0.1 ]\n",
            " [0.26 0.14 0.3  0.3 ]\n",
            " [0.24 0.21 0.26 0.29]\n",
            " [0.1  0.13 0.53 0.24]\n",
            " [0.23 0.25 0.28 0.24]\n",
            " [0.15 0.26 0.34 0.25]\n",
            " [0.31 0.16 0.4  0.13]\n",
            " [0.19 0.25 0.45 0.11]\n",
            " [0.3  0.15 0.21 0.34]\n",
            " [0.13 0.37 0.31 0.19]\n",
            " [0.11 0.12 0.18 0.59]\n",
            " [0.13 0.44 0.25 0.18]\n",
            " [0.43 0.17 0.19 0.21]\n",
            " [0.13 0.19 0.31 0.37]\n",
            " [0.43 0.17 0.23 0.17]\n",
            " [0.24 0.26 0.23 0.27]\n",
            " [0.14 0.22 0.34 0.3 ]\n",
            " [0.3  0.14 0.25 0.31]\n",
            " [0.24 0.21 0.26 0.29]\n",
            " [0.17 0.22 0.52 0.09]\n",
            " [0.2  0.28 0.36 0.16]]\n"
          ]
        }
      ]
    },
    {
      "cell_type": "code",
      "source": [
        "new_data = pd.read_csv('newdata.csv')\n",
        "new_data[num_cols] = scaler.transform(new_data[num_cols])"
      ],
      "metadata": {
        "id": "liQIaD1MtDeT"
      },
      "execution_count": 18,
      "outputs": []
    },
    {
      "cell_type": "code",
      "source": [
        "new_data = new_data[selected_feat]\n",
        "# print(new_data)"
      ],
      "metadata": {
        "id": "uA4Ean3dtGPY"
      },
      "execution_count": 19,
      "outputs": []
    },
    {
      "cell_type": "code",
      "source": [
        "new_predictions = clf.predict(new_data)\n",
        "print(new_predictions)"
      ],
      "metadata": {
        "colab": {
          "base_uri": "https://localhost:8080/"
        },
        "id": "SZpRqVtRuB5z",
        "outputId": "a76569be-ae05-477f-8f45-8f427d1fb384"
      },
      "execution_count": 20,
      "outputs": [
        {
          "output_type": "stream",
          "name": "stdout",
          "text": [
            "['Startup' 'Product']\n"
          ]
        }
      ]
    },
    {
      "cell_type": "code",
      "source": [
        "new_predictions_proba = clf.predict_proba(new_data)\n",
        "print(new_predictions_proba)"
      ],
      "metadata": {
        "colab": {
          "base_uri": "https://localhost:8080/"
        },
        "id": "KSCcQUnKuFgd",
        "outputId": "11ab56a8-21a5-437f-87b2-0dbf102afdda"
      },
      "execution_count": 21,
      "outputs": [
        {
          "output_type": "stream",
          "name": "stdout",
          "text": [
            "[[0.17 0.06 0.28 0.49]\n",
            " [0.22 0.26 0.26 0.26]]\n"
          ]
        }
      ]
    },
    {
      "cell_type": "code",
      "source": [
        "output = []\n",
        "for i in range(len(new_predictions_proba)):\n",
        "    row_dict = {}\n",
        "    for j, category in enumerate(clf.classes_):\n",
        "      row_dict[category] = new_predictions_proba[i][j]\n",
        "    output.append(row_dict)\n",
        "print(output)"
      ],
      "metadata": {
        "colab": {
          "base_uri": "https://localhost:8080/"
        },
        "id": "bOKuGMCnuJk8",
        "outputId": "beb5c11b-c82c-4abf-c61a-01e3ca83fb80"
      },
      "execution_count": 22,
      "outputs": [
        {
          "output_type": "stream",
          "name": "stdout",
          "text": [
            "[{'FinTech': 0.17, 'Product': 0.06, 'Service': 0.28, 'Startup': 0.49}, {'FinTech': 0.22, 'Product': 0.26, 'Service': 0.26, 'Startup': 0.26}]\n"
          ]
        }
      ]
    },
    {
      "cell_type": "code",
      "source": [],
      "metadata": {
        "id": "rNKg0pExuMh0"
      },
      "execution_count": null,
      "outputs": []
    }
  ]
}